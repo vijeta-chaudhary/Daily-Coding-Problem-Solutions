{
  "nbformat": 4,
  "nbformat_minor": 0,
  "metadata": {
    "colab": {
      "provenance": [],
      "include_colab_link": true
    },
    "kernelspec": {
      "name": "python3",
      "display_name": "Python 3"
    },
    "language_info": {
      "name": "python"
    }
  },
  "cells": [
    {
      "cell_type": "markdown",
      "metadata": {
        "id": "view-in-github",
        "colab_type": "text"
      },
      "source": [
        "<a href=\"https://colab.research.google.com/github/vijeta-chaudhary/Daily-Coding-Problem-Solutions/blob/master/stats_assi_1.ipynb\" target=\"_parent\"><img src=\"https://colab.research.google.com/assets/colab-badge.svg\" alt=\"Open In Colab\"/></a>"
      ]
    },
    {
      "cell_type": "code",
      "source": [
        "import pandas as pd\n",
        "import numpy as np"
      ],
      "metadata": {
        "id": "JfYcsiwcPLQI"
      },
      "execution_count": null,
      "outputs": []
    },
    {
      "cell_type": "code",
      "execution_count": null,
      "metadata": {
        "colab": {
          "base_uri": "https://localhost:8080/"
        },
        "id": "DpMACp-GOnBg",
        "outputId": "e6b5e0ae-905c-4fa6-a95c-b55372e736aa"
      },
      "outputs": [
        {
          "output_type": "execute_result",
          "data": {
            "text/plain": [
              "<IntegerArray>\n",
              "[1, 2, 3, 4, 5, 6, 4, 7, 8, 9]\n",
              "Length: 10, dtype: Int64"
            ]
          },
          "metadata": {},
          "execution_count": 2
        }
      ],
      "source": [
        "#1 . Write a Pandas program to create and display a one-dimensional array-like object containing an array of data using Pandas module.\n",
        "\n",
        "a=pd.array([1,2,3,4,5,6,4,7,8,9])\n",
        "a"
      ]
    },
    {
      "cell_type": "code",
      "source": [
        "#2. Write a Pandas program to convert a Panda module Series to Python list and it's type.\n",
        "a1=pd.Series([1,2,3,4,5,6,5,6,7,8,9])\n",
        "a2 = a1.tolist()\n",
        "a2"
      ],
      "metadata": {
        "colab": {
          "base_uri": "https://localhost:8080/"
        },
        "id": "bJUct1pFPJH5",
        "outputId": "e65fbdb9-1669-41a6-db33-6ff20f6b591c"
      },
      "execution_count": null,
      "outputs": [
        {
          "output_type": "execute_result",
          "data": {
            "text/plain": [
              "[1, 2, 3, 4, 5, 6, 5, 6, 7, 8, 9]"
            ]
          },
          "metadata": {},
          "execution_count": 8
        }
      ]
    },
    {
      "cell_type": "code",
      "source": [
        "#3. Write a Pandas program to add, subtract, multiple and divide two Pandas Series.\n",
        "# Sample Series: [2, 4, 6, 8, 10], [1, 3, 5, 7, 9]\n",
        "a1 = pd.Series([2, 4, 6, 8, 10])\n",
        "a2 = pd.Series([1, 3, 5, 7, 9])\n",
        "\n",
        "add = a1 + a2\n",
        "print(add)\n",
        "\n",
        "subs = a1 - a2\n",
        "print(subs)\n",
        "\n",
        "mul= a1*a2\n",
        "print(mul)\n",
        "\n",
        "div= a1/a2\n",
        "print(div)"
      ],
      "metadata": {
        "colab": {
          "base_uri": "https://localhost:8080/"
        },
        "id": "9IL5w8NXRd4L",
        "outputId": "4df1194f-7f57-46f0-d728-a0c005105cdc"
      },
      "execution_count": null,
      "outputs": [
        {
          "output_type": "stream",
          "name": "stdout",
          "text": [
            "0     3\n",
            "1     7\n",
            "2    11\n",
            "3    15\n",
            "4    19\n",
            "dtype: int64\n",
            "0    1\n",
            "1    1\n",
            "2    1\n",
            "3    1\n",
            "4    1\n",
            "dtype: int64\n",
            "0     2\n",
            "1    12\n",
            "2    30\n",
            "3    56\n",
            "4    90\n",
            "dtype: int64\n",
            "0    2.000000\n",
            "1    1.333333\n",
            "2    1.200000\n",
            "3    1.142857\n",
            "4    1.111111\n",
            "dtype: float64\n"
          ]
        }
      ]
    },
    {
      "cell_type": "code",
      "source": [
        "#4. Write a Pandas program to compare the elements of the two Pandas Series.\n",
        "#Sample Series: [2, 4, 6, 8, 10], [1, 3, 5, 7, 10]\n",
        "\n",
        "a1 =pd.Series([2, 4, 6, 8, 10])\n",
        "a2 =pd.Series([1, 3, 5, 7, 10])\n",
        "\n",
        "\n",
        "eq = a1 == a2\n",
        "ge = a1 > a2\n",
        "le = a1 < a2\n",
        "\n",
        "print(eq)\n",
        "print(ge)\n",
        "print(le)\n"
      ],
      "metadata": {
        "colab": {
          "base_uri": "https://localhost:8080/"
        },
        "id": "wdfRnnJQTRjo",
        "outputId": "ee4aa7ba-13b4-4722-acda-24bccbd9bfd8"
      },
      "execution_count": null,
      "outputs": [
        {
          "output_type": "stream",
          "name": "stdout",
          "text": [
            "0    False\n",
            "1    False\n",
            "2    False\n",
            "3    False\n",
            "4     True\n",
            "dtype: bool\n",
            "0     True\n",
            "1     True\n",
            "2     True\n",
            "3     True\n",
            "4    False\n",
            "dtype: bool\n",
            "0    False\n",
            "1    False\n",
            "2    False\n",
            "3    False\n",
            "4    False\n",
            "dtype: bool\n"
          ]
        }
      ]
    },
    {
      "cell_type": "code",
      "source": [
        "#5. Write a Pandas program to convert a dictionary to a Pandas series.\n",
        "\n",
        "\n",
        "dict1 = {'a': 100, 'b': 200, 'c': 300, 'd': 400, 'e': 800}\n",
        "ser1 = pd.Series(dict1)\n",
        "print(ser1)"
      ],
      "metadata": {
        "colab": {
          "base_uri": "https://localhost:8080/"
        },
        "id": "R6ti7PQRUYFI",
        "outputId": "4e068ecd-c4ef-4391-937e-ed3713a42135"
      },
      "execution_count": null,
      "outputs": [
        {
          "output_type": "stream",
          "name": "stdout",
          "text": [
            "a    100\n",
            "b    200\n",
            "c    300\n",
            "d    400\n",
            "e    800\n",
            "dtype: int64\n"
          ]
        }
      ]
    },
    {
      "cell_type": "code",
      "source": [
        "#6. Write a Pandas program to convert a NumPy array to a Pandas series.\n",
        "a= np.array([10,20,30,40,50])\n",
        "b= pd.Series(a)\n",
        "b"
      ],
      "metadata": {
        "colab": {
          "base_uri": "https://localhost:8080/"
        },
        "id": "WP9_H9FwUyX5",
        "outputId": "335baeb4-0bab-4fe0-b3c1-b7fae0edb615"
      },
      "execution_count": null,
      "outputs": [
        {
          "output_type": "execute_result",
          "data": {
            "text/plain": [
              "0    10\n",
              "1    20\n",
              "2    30\n",
              "3    40\n",
              "4    50\n",
              "dtype: int64"
            ]
          },
          "metadata": {},
          "execution_count": 25
        }
      ]
    },
    {
      "cell_type": "code",
      "source": [
        "#7. Write a Pandas program to change the data type of given a column or a Series.\n",
        "\n",
        "aa = pd.Series(['100', '200', 'python', '300.12', '400'])\n",
        "\n",
        "bb = pd.to_numeric(aa, errors='coerce')\n",
        "print(bb)"
      ],
      "metadata": {
        "colab": {
          "base_uri": "https://localhost:8080/"
        },
        "id": "EjGZ-sIQU-cp",
        "outputId": "06ab27e8-80d9-4d84-9bbd-1fbcdf142747"
      },
      "execution_count": null,
      "outputs": [
        {
          "output_type": "stream",
          "name": "stdout",
          "text": [
            "0    100.00\n",
            "1    200.00\n",
            "2       NaN\n",
            "3    300.12\n",
            "4    400.00\n",
            "dtype: float64\n"
          ]
        }
      ]
    },
    {
      "cell_type": "code",
      "source": [
        "#8. Write a Pandas program to convert the first column of a DataFrame as a Series.\n",
        "\n",
        "a1=pd.DataFrame( {'col1': [1, 2, 3, 4, 7, 11],\n",
        "                  'col2': [4, 5, 6, 9, 5, 0],\n",
        "                  'col3': [7, 5, 8, 12, 1, 11]})\n",
        "\n",
        "s1 = a1['col3']\n",
        "s2 = pd.Series(s1)\n",
        "print(s2)"
      ],
      "metadata": {
        "colab": {
          "base_uri": "https://localhost:8080/"
        },
        "id": "mF6XzowCVpZw",
        "outputId": "08b635b6-7ba4-46a4-b7cb-1639c51e6d22"
      },
      "execution_count": null,
      "outputs": [
        {
          "output_type": "stream",
          "name": "stdout",
          "text": [
            "0     7\n",
            "1     5\n",
            "2     8\n",
            "3    12\n",
            "4     1\n",
            "5    11\n",
            "Name: col3, dtype: int64\n"
          ]
        }
      ]
    },
    {
      "cell_type": "code",
      "source": [
        "#9. Write a Pandas program to convert a given Series to an array.\n",
        "ser = pd.Series([100,200,'python',300,12,400])\n",
        "\n",
        "arr= pd.array(ser)\n",
        "\n",
        "print(arr)"
      ],
      "metadata": {
        "colab": {
          "base_uri": "https://localhost:8080/"
        },
        "id": "PZrANHvPWij_",
        "outputId": "6bb69933-7eef-4f7d-804d-640c510211d7"
      },
      "execution_count": null,
      "outputs": [
        {
          "output_type": "stream",
          "name": "stdout",
          "text": [
            "<class 'pandas.core.arrays.numpy_.PandasArray'>\n"
          ]
        }
      ]
    },
    {
      "cell_type": "code",
      "source": [
        "#10. Write a Pandas program to convert a Series of lists to one Series.\n",
        "\n",
        "ser2 = pd.Series([['Red', 'Green', 'White'],['Red','Black'], ['Yellow']])\n",
        "\n",
        "ser3 = ser2.explode()\n",
        "ser3.reset_index(drop=True)"
      ],
      "metadata": {
        "colab": {
          "base_uri": "https://localhost:8080/"
        },
        "id": "OxVJCSs2W8mP",
        "outputId": "374c8d03-7906-41f7-d5b8-2805e4d9b8f2"
      },
      "execution_count": null,
      "outputs": [
        {
          "output_type": "execute_result",
          "data": {
            "text/plain": [
              "0       Red\n",
              "1     Green\n",
              "2     White\n",
              "3       Red\n",
              "4     Black\n",
              "5    Yellow\n",
              "dtype: object"
            ]
          },
          "metadata": {},
          "execution_count": 94
        }
      ]
    },
    {
      "cell_type": "code",
      "source": [
        "#11. Write a Pandas program to sort a given Series.\n",
        "ab = pd.Series([100, 200, 'python', 300.12, 400])\n",
        "ab1 = ab.sort_values\n",
        "print(ab1)"
      ],
      "metadata": {
        "colab": {
          "base_uri": "https://localhost:8080/"
        },
        "id": "qjLCPZEsYLww",
        "outputId": "204b6897-c93a-4b1d-b04a-ef52775a6f70"
      },
      "execution_count": null,
      "outputs": [
        {
          "output_type": "stream",
          "name": "stdout",
          "text": [
            "<bound method Series.sort_values of 0       100\n",
            "1       200\n",
            "2    python\n",
            "3    300.12\n",
            "4       400\n",
            "dtype: object>\n"
          ]
        }
      ]
    },
    {
      "cell_type": "code",
      "source": [
        "#12. Write a Pandas program to add some data to an existing Series.\n",
        "ser1 = pd.Series([10,20,'python',30,40,50])\n",
        "ser2 = pd.Series([60,70,80,90,'php'])\n",
        "\n",
        "ser3 = ser1.append(ser2)\n",
        "ser3\n"
      ],
      "metadata": {
        "colab": {
          "base_uri": "https://localhost:8080/"
        },
        "id": "bol_E6aYZcA7",
        "outputId": "51b794a5-7ebd-470c-bb44-754477509b66"
      },
      "execution_count": null,
      "outputs": [
        {
          "output_type": "stream",
          "name": "stderr",
          "text": [
            "<ipython-input-53-53f4b38fc840>:5: FutureWarning: The series.append method is deprecated and will be removed from pandas in a future version. Use pandas.concat instead.\n",
            "  ser3 = ser1.append(ser2)\n"
          ]
        },
        {
          "output_type": "execute_result",
          "data": {
            "text/plain": [
              "0        10\n",
              "1        20\n",
              "2    python\n",
              "3        30\n",
              "4        40\n",
              "5        50\n",
              "0        60\n",
              "1        70\n",
              "2        80\n",
              "3        90\n",
              "4       php\n",
              "dtype: object"
            ]
          },
          "metadata": {},
          "execution_count": 53
        }
      ]
    },
    {
      "cell_type": "code",
      "source": [
        "#13.  Write a Pandas program to create a subset of a given series based on value and condition.\n",
        "\n",
        "s= pd.Series([0,1,2,3,4,5,6,7,8,9,10])\n",
        "\n",
        "t = s<6\n",
        "\n",
        "s2=s[t]\n",
        "s2"
      ],
      "metadata": {
        "colab": {
          "base_uri": "https://localhost:8080/"
        },
        "id": "ElwsHaIyaUsm",
        "outputId": "140138d9-e587-4ff7-fbb3-eb75e1aa4af8"
      },
      "execution_count": null,
      "outputs": [
        {
          "output_type": "execute_result",
          "data": {
            "text/plain": [
              "0    0\n",
              "1    1\n",
              "2    2\n",
              "3    3\n",
              "4    4\n",
              "5    5\n",
              "dtype: int64"
            ]
          },
          "metadata": {},
          "execution_count": 59
        }
      ]
    },
    {
      "cell_type": "code",
      "source": [
        "#14. Write a Pandas program to change the order of index of a given series.\n",
        "a =  pd.Series([10, 20, 30, 40, 50], index=['a', 'b', 'c', 'd', 'e'])\n",
        "new = ['b','a','c','d','e']\n",
        "rein = a.reindex(new)\n",
        "rein"
      ],
      "metadata": {
        "colab": {
          "base_uri": "https://localhost:8080/"
        },
        "id": "6506m4xVbeqF",
        "outputId": "eb780f5f-9112-400a-be00-b809c9cef2a2"
      },
      "execution_count": null,
      "outputs": [
        {
          "output_type": "execute_result",
          "data": {
            "text/plain": [
              "b    20\n",
              "a    10\n",
              "c    30\n",
              "d    40\n",
              "e    50\n",
              "dtype: int64"
            ]
          },
          "metadata": {},
          "execution_count": 62
        }
      ]
    },
    {
      "cell_type": "code",
      "source": [
        "#15. Write a Pandas program to create the mean and standard deviation of the data of a given Series.\n",
        "a = pd.Series([1,2,3,4,5,6,7,8,9,5,3])\n",
        "\n",
        "mean= a.mean()\n",
        "sd = a.std()\n",
        "\n",
        "print('mean is :',round(mean,3))\n",
        "print('std deviation is :',round(sd,3))\n"
      ],
      "metadata": {
        "colab": {
          "base_uri": "https://localhost:8080/"
        },
        "id": "uyC9yr70cJnp",
        "outputId": "6a88bb4c-0a61-4888-8c4b-e3b0e8909fa6"
      },
      "execution_count": null,
      "outputs": [
        {
          "output_type": "stream",
          "name": "stdout",
          "text": [
            "mean is : 4.818\n",
            "std deviation is : 2.523\n"
          ]
        }
      ]
    },
    {
      "cell_type": "code",
      "source": [
        "#16. Write a Pandas program to get the items of a given series not present in another given series.\n",
        "ser1=pd.Series([1,2,3,4,5,6,7,8,9,10])\n",
        "ser2=pd.Series([2,4,6,8,10])\n",
        "\n",
        "ser3 = np.setdiff1d(ser1,ser2)\n",
        "ser3\n"
      ],
      "metadata": {
        "colab": {
          "base_uri": "https://localhost:8080/"
        },
        "id": "jUMpxBxyc6bs",
        "outputId": "6f52b5c9-b49a-498a-f7ff-0f5cd7740d25"
      },
      "execution_count": null,
      "outputs": [
        {
          "output_type": "execute_result",
          "data": {
            "text/plain": [
              "array([1, 3, 5, 7, 9])"
            ]
          },
          "metadata": {},
          "execution_count": 84
        }
      ]
    },
    {
      "cell_type": "code",
      "source": [
        "#17. Write a Pandas program to get the items which are not common of two given series.\n",
        "ser1=pd.Series([1,2,3,4,5,6,7,8,9,10])\n",
        "ser2=pd.Series([2,4,6,8,10])\n",
        "\n",
        "ser3 = np.setdiff1d(ser1,ser2)\n",
        "ser3\n"
      ],
      "metadata": {
        "colab": {
          "base_uri": "https://localhost:8080/"
        },
        "id": "juthV2Jrf-dO",
        "outputId": "ed9b2ed0-cbad-4c44-a950-de99b5a2d6de"
      },
      "execution_count": null,
      "outputs": [
        {
          "output_type": "execute_result",
          "data": {
            "text/plain": [
              "array([1, 3, 5, 7, 9])"
            ]
          },
          "metadata": {},
          "execution_count": 85
        }
      ]
    },
    {
      "cell_type": "code",
      "source": [
        "#18. Write a Pandas program to compute the minimum, 25th percentile, median, 75th, and maximum of a given series.\n",
        "\n",
        "ser = pd.Series(np.random.rand(20) * 10)\n",
        "result = ser.describe(percentiles=[0.25, 0.5, 0.75])\n",
        "final = result[['min', '25%', '50%', '75%', 'max']]\n",
        "print(final)"
      ],
      "metadata": {
        "colab": {
          "base_uri": "https://localhost:8080/"
        },
        "id": "uDp9ykDJgkeF",
        "outputId": "5a853db7-f802-4e5e-cd9f-cf14964e1675"
      },
      "execution_count": null,
      "outputs": [
        {
          "output_type": "stream",
          "name": "stdout",
          "text": [
            "min    0.156418\n",
            "25%    1.407345\n",
            "50%    4.531065\n",
            "75%    7.864528\n",
            "max    9.501490\n",
            "dtype: float64\n"
          ]
        }
      ]
    },
    {
      "cell_type": "code",
      "source": [
        "#19. Write a Pandas program to calculate the frequency counts of each unique value of a given series.\n",
        "s1 = pd.Series([1,7,1,6,9,1])\n",
        "s1.value_counts()"
      ],
      "metadata": {
        "colab": {
          "base_uri": "https://localhost:8080/"
        },
        "id": "VqXnM16WiESo",
        "outputId": "fb77ebac-21dc-41f1-9ce8-a63351a49aa6"
      },
      "execution_count": null,
      "outputs": [
        {
          "output_type": "execute_result",
          "data": {
            "text/plain": [
              "1    3\n",
              "7    1\n",
              "6    1\n",
              "9    1\n",
              "dtype: int64"
            ]
          },
          "metadata": {},
          "execution_count": 93
        }
      ]
    },
    {
      "cell_type": "code",
      "source": [
        "#20. Write a Pandas program to display the most frequent value in a given series and replace everything else as 'Other' in the series.\n",
        "\n",
        "s = pd.Series([3,1,1,3,2,2,1,2,3,1,2,2,2,3,3])\n",
        "freq = s.mode().iloc[0]\n",
        "new = s.where(s == freq, 'Other')\n",
        "print(new)"
      ],
      "metadata": {
        "colab": {
          "base_uri": "https://localhost:8080/"
        },
        "id": "fNe5maKei6WT",
        "outputId": "950f245e-5a3c-4ee9-99a2-cf0bec9e7b97"
      },
      "execution_count": null,
      "outputs": [
        {
          "output_type": "stream",
          "name": "stdout",
          "text": [
            "0     Other\n",
            "1     Other\n",
            "2     Other\n",
            "3     Other\n",
            "4         2\n",
            "5         2\n",
            "6     Other\n",
            "7         2\n",
            "8     Other\n",
            "9     Other\n",
            "10        2\n",
            "11        2\n",
            "12        2\n",
            "13    Other\n",
            "14    Other\n",
            "dtype: object\n"
          ]
        }
      ]
    },
    {
      "cell_type": "code",
      "source": [
        "#21. Write a Pandas program to find the positions of numbers that are multiples of 5 of a given series.\n",
        "ser=pd.Series([1,9,8,6,9,7,1,1,1])\n",
        "pos= ser[ser % 5 == 0].index\n",
        "pos"
      ],
      "metadata": {
        "id": "9CpXZ1C3i6Qt",
        "colab": {
          "base_uri": "https://localhost:8080/"
        },
        "outputId": "2e65d8e2-1132-4239-ba54-47a8ff1964ec"
      },
      "execution_count": null,
      "outputs": [
        {
          "output_type": "execute_result",
          "data": {
            "text/plain": [
              "Int64Index([], dtype='int64')"
            ]
          },
          "metadata": {},
          "execution_count": 3
        }
      ]
    },
    {
      "cell_type": "code",
      "source": [
        "#22. Write a Pandas program to extract items at given positions of a given series.\n",
        "\n",
        "rn = pd.Series(np.random.randint(1,100,20))\n",
        "print(rn)\n",
        "ex= [2,4,6,8,10]\n",
        "rn.iloc[ex]"
      ],
      "metadata": {
        "colab": {
          "base_uri": "https://localhost:8080/"
        },
        "id": "2k2m9Av7WLXU",
        "outputId": "ffefb96c-4c07-4c72-9d34-d7f71fe832d4"
      },
      "execution_count": null,
      "outputs": [
        {
          "output_type": "stream",
          "name": "stdout",
          "text": [
            "0     35\n",
            "1      2\n",
            "2     49\n",
            "3     59\n",
            "4     40\n",
            "5     44\n",
            "6      7\n",
            "7     12\n",
            "8     18\n",
            "9     56\n",
            "10    49\n",
            "11    73\n",
            "12    97\n",
            "13    38\n",
            "14    20\n",
            "15    43\n",
            "16    67\n",
            "17    32\n",
            "18    81\n",
            "19    53\n",
            "dtype: int64\n"
          ]
        },
        {
          "output_type": "execute_result",
          "data": {
            "text/plain": [
              "2     49\n",
              "4     40\n",
              "6      7\n",
              "8     18\n",
              "10    49\n",
              "dtype: int64"
            ]
          },
          "metadata": {},
          "execution_count": 5
        }
      ]
    },
    {
      "cell_type": "code",
      "source": [
        "#23. Write a Pandas program to get the positions of items of a given series in another given series.\n",
        "ser1=pd.Series([1,2,3,4,5,6,7,8,9,10])\n",
        "ser2=pd.Series([1,3,5,7,10])\n",
        "\n",
        "pos=np.where(ser1.isin(ser2))\n",
        "pos"
      ],
      "metadata": {
        "colab": {
          "base_uri": "https://localhost:8080/"
        },
        "id": "-RbenPyrcCr-",
        "outputId": "214b040a-9615-4b10-eb67-7c4ce105d947"
      },
      "execution_count": null,
      "outputs": [
        {
          "output_type": "execute_result",
          "data": {
            "text/plain": [
              "(array([0, 2, 4, 6, 9]),)"
            ]
          },
          "metadata": {},
          "execution_count": 9
        }
      ]
    },
    {
      "cell_type": "code",
      "source": [
        "#24. Write a Pandas program to convert the first and last character of each word to uppercase in each word of a given series.\n",
        "old = pd.Series(['php','python','java','c#'])\n",
        "\n",
        "new = old.apply(lambda word: word[0].upper() + word[1:-1] + word[-1].upper())\n",
        "new"
      ],
      "metadata": {
        "colab": {
          "base_uri": "https://localhost:8080/"
        },
        "id": "WM-bpiKWfoJJ",
        "outputId": "a21506ec-ec5e-4b5e-b177-2be8e3fbab5a"
      },
      "execution_count": null,
      "outputs": [
        {
          "output_type": "execute_result",
          "data": {
            "text/plain": [
              "0       PhP\n",
              "1    PythoN\n",
              "2      JavA\n",
              "3        C#\n",
              "dtype: object"
            ]
          },
          "metadata": {},
          "execution_count": 13
        }
      ]
    },
    {
      "cell_type": "code",
      "source": [
        "#25. Write a Pandas program to calculate the number of characters in each word in a given series.\n",
        "ser = pd.Series(['php','python','java','c#'])\n",
        "\n",
        "count = ser.apply(lambda word : len(word))\n",
        "count"
      ],
      "metadata": {
        "colab": {
          "base_uri": "https://localhost:8080/"
        },
        "id": "qDrmvBNjhEBB",
        "outputId": "f5908a2f-c3e1-4290-a958-1eafb0c0ad94"
      },
      "execution_count": null,
      "outputs": [
        {
          "output_type": "execute_result",
          "data": {
            "text/plain": [
              "0    3\n",
              "1    6\n",
              "2    4\n",
              "3    2\n",
              "dtype: int64"
            ]
          },
          "metadata": {},
          "execution_count": 15
        }
      ]
    },
    {
      "cell_type": "code",
      "source": [
        "#26. Write a Pandas program to compute the difference of differences between consecutive numbers of a given series.\n",
        "\n",
        "ser2 = pd.Series([1, 3, 5, 8, 10, 11, 15])\n",
        "diff = ser2.diff()\n",
        "print(diff)\n",
        "diff_of_diff = diff.diff()\n",
        "print(diff_of_diff)"
      ],
      "metadata": {
        "colab": {
          "base_uri": "https://localhost:8080/"
        },
        "id": "eBM6sxv3hfUb",
        "outputId": "060cfba6-42d2-4e1d-8e86-e78d1fb261e0"
      },
      "execution_count": null,
      "outputs": [
        {
          "output_type": "stream",
          "name": "stdout",
          "text": [
            "0    NaN\n",
            "1    2.0\n",
            "2    2.0\n",
            "3    3.0\n",
            "4    2.0\n",
            "5    1.0\n",
            "6    4.0\n",
            "dtype: float64\n",
            "0    NaN\n",
            "1    NaN\n",
            "2    0.0\n",
            "3    1.0\n",
            "4   -1.0\n",
            "5   -1.0\n",
            "6    3.0\n",
            "dtype: float64\n"
          ]
        }
      ]
    },
    {
      "cell_type": "code",
      "source": [
        "#27. Write a Pandas program to convert a series of date strings to a timeseries.\n",
        "\n",
        "ser1 = pd.Series(['01 Jan 2015', '10-02-2016', '20180307', '2014/05/06', '2016-04-12', '2019-04-06T11:20'])\n",
        "time_ser = pd.to_datetime(ser1, format= '%d %b %Y %H:%M', infer_datetime_format=True)\n",
        "time_ser"
      ],
      "metadata": {
        "colab": {
          "base_uri": "https://localhost:8080/"
        },
        "id": "5l2dZjN0iQN1",
        "outputId": "5bdaaa9e-9f8d-4c4c-b657-fd89f57cc102"
      },
      "execution_count": null,
      "outputs": [
        {
          "output_type": "execute_result",
          "data": {
            "text/plain": [
              "0   2015-01-01 00:00:00\n",
              "1   2016-10-02 00:00:00\n",
              "2   2018-03-07 00:00:00\n",
              "3   2014-05-06 00:00:00\n",
              "4   2016-04-12 00:00:00\n",
              "5   2019-04-06 11:20:00\n",
              "dtype: datetime64[ns]"
            ]
          },
          "metadata": {},
          "execution_count": 23
        }
      ]
    },
    {
      "cell_type": "code",
      "source": [
        "#28. Write a Pandas program to get the day of month, day of year, week number and day of week from a given series of date strings.\n",
        "\n",
        "ser3= pd.Series(['01 Jan 2015', '10-02-2016', '20180307', '2014/05/06', '2016-04-12', '2019-04-06T11:20'])\n",
        "\n",
        "dser = pd.to_datetime(ser3,errors='coerce')\n",
        "\n",
        "day_month= dser.dt.day.tolist()\n",
        "day_year= dser.dt.dayofyear.tolist()\n",
        "week_num= dser.dt.week.tolist()\n",
        "day_week= dser.dt.day_name().tolist()\n",
        "\n",
        "print(day_month)\n",
        "print(day_year)\n",
        "print(week_num)\n",
        "print(day_week)"
      ],
      "metadata": {
        "colab": {
          "base_uri": "https://localhost:8080/"
        },
        "id": "ziZ-SFPekSfQ",
        "outputId": "94540971-f419-47f2-926f-2ea982f7d862"
      },
      "execution_count": null,
      "outputs": [
        {
          "output_type": "stream",
          "name": "stdout",
          "text": [
            "[1, 2, 7, 6, 12, 6]\n",
            "[1, 276, 66, 126, 103, 96]\n",
            "[1, 39, 10, 19, 15, 14]\n",
            "['Thursday', 'Sunday', 'Wednesday', 'Tuesday', 'Tuesday', 'Saturday']\n"
          ]
        },
        {
          "output_type": "stream",
          "name": "stderr",
          "text": [
            "<ipython-input-26-3c08bd18bc78>:9: FutureWarning: Series.dt.weekofyear and Series.dt.week have been deprecated. Please use Series.dt.isocalendar().week instead.\n",
            "  week_num= dser.dt.week.tolist()\n"
          ]
        }
      ]
    },
    {
      "cell_type": "code",
      "source": [
        "#29. Write a Pandas program to convert year-month string to dates adding a specified day of the month.\n",
        "\n",
        "ser4= pd.Series(['Jan 2015', 'Feb 2016', 'Mar 2017', 'Apr 2018', 'May 2019'])\n",
        "\n",
        "day = 11\n",
        "\n",
        "new = pd.to_datetime(ser4 + ' ' + str(day),format='%b %Y %d')\n",
        "new\n"
      ],
      "metadata": {
        "colab": {
          "base_uri": "https://localhost:8080/"
        },
        "id": "A-AUsx0nl8gJ",
        "outputId": "d4334042-b538-409a-a80d-f8668b769886"
      },
      "execution_count": null,
      "outputs": [
        {
          "output_type": "execute_result",
          "data": {
            "text/plain": [
              "0   2015-01-11\n",
              "1   2016-02-11\n",
              "2   2017-03-11\n",
              "3   2018-04-11\n",
              "4   2019-05-11\n",
              "dtype: datetime64[ns]"
            ]
          },
          "metadata": {},
          "execution_count": 28
        }
      ]
    },
    {
      "cell_type": "code",
      "source": [
        "#30. Write a Pandas program to filter words from a given series that contain atleast two vowels.\n"
      ],
      "metadata": {
        "id": "pfui3gJ3mllN"
      },
      "execution_count": null,
      "outputs": []
    },
    {
      "cell_type": "code",
      "source": [
        "#31. Write a Pandas program to compute the Euclidean distance between two given series."
      ],
      "metadata": {
        "id": "9VUtJ9Nqm-P-"
      },
      "execution_count": null,
      "outputs": []
    },
    {
      "cell_type": "code",
      "source": [
        "#32. Write a Pandas program to find the positions of the values neighboured by smaller values on both sides in a given series."
      ],
      "metadata": {
        "id": "tE7uno1OnLQ2"
      },
      "execution_count": null,
      "outputs": []
    },
    {
      "cell_type": "code",
      "source": [
        "#35. Write a Pandas program to create a TimeSeries to display all the Sundays of given year\n",
        "\n",
        "sundays_series = pd.date_range(start=f'2019-01-01', end=f'2019-12-31', freq='W-SUN')\n",
        "\n",
        "sundays_df = pd.DataFrame({'All Sundays of {}'.format(2019): sundays_series})\n",
        "\n",
        "print(sundays_df)\n"
      ],
      "metadata": {
        "colab": {
          "base_uri": "https://localhost:8080/"
        },
        "id": "QabVRlVknWKF",
        "outputId": "4010fb7f-dcd7-419b-a905-8ab6c942be69"
      },
      "execution_count": null,
      "outputs": [
        {
          "output_type": "stream",
          "name": "stdout",
          "text": [
            "   All Sundays of 2019\n",
            "0           2019-01-06\n",
            "1           2019-01-13\n",
            "2           2019-01-20\n",
            "3           2019-01-27\n",
            "4           2019-02-03\n",
            "5           2019-02-10\n",
            "6           2019-02-17\n",
            "7           2019-02-24\n",
            "8           2019-03-03\n",
            "9           2019-03-10\n",
            "10          2019-03-17\n",
            "11          2019-03-24\n",
            "12          2019-03-31\n",
            "13          2019-04-07\n",
            "14          2019-04-14\n",
            "15          2019-04-21\n",
            "16          2019-04-28\n",
            "17          2019-05-05\n",
            "18          2019-05-12\n",
            "19          2019-05-19\n",
            "20          2019-05-26\n",
            "21          2019-06-02\n",
            "22          2019-06-09\n",
            "23          2019-06-16\n",
            "24          2019-06-23\n",
            "25          2019-06-30\n",
            "26          2019-07-07\n",
            "27          2019-07-14\n",
            "28          2019-07-21\n",
            "29          2019-07-28\n",
            "30          2019-08-04\n",
            "31          2019-08-11\n",
            "32          2019-08-18\n",
            "33          2019-08-25\n",
            "34          2019-09-01\n",
            "35          2019-09-08\n",
            "36          2019-09-15\n",
            "37          2019-09-22\n",
            "38          2019-09-29\n",
            "39          2019-10-06\n",
            "40          2019-10-13\n",
            "41          2019-10-20\n",
            "42          2019-10-27\n",
            "43          2019-11-03\n",
            "44          2019-11-10\n",
            "45          2019-11-17\n",
            "46          2019-11-24\n",
            "47          2019-12-01\n",
            "48          2019-12-08\n",
            "49          2019-12-15\n",
            "50          2019-12-22\n",
            "51          2019-12-29\n"
          ]
        }
      ]
    },
    {
      "cell_type": "code",
      "source": [
        "#36. Write a Pandas program to convert given series into a dataframe with its index as another column on the dataframe.\n",
        "\n",
        "ser5= pd.Series(['A','B','C','D','E'])\n",
        "DF= ser5.reset_index()\n",
        "DF\n"
      ],
      "metadata": {
        "colab": {
          "base_uri": "https://localhost:8080/",
          "height": 206
        },
        "id": "b2CNR4ZuoYdN",
        "outputId": "4a659d73-ee06-401d-f3cd-d7586fc41863"
      },
      "execution_count": null,
      "outputs": [
        {
          "output_type": "execute_result",
          "data": {
            "text/plain": [
              "   index  0\n",
              "0      0  C\n",
              "1      1  B\n",
              "2      2  A\n",
              "3      3  D\n",
              "4      4  E"
            ],
            "text/html": [
              "\n",
              "  <div id=\"df-a4251432-ea26-4767-971c-419b7b8e4151\" class=\"colab-df-container\">\n",
              "    <div>\n",
              "<style scoped>\n",
              "    .dataframe tbody tr th:only-of-type {\n",
              "        vertical-align: middle;\n",
              "    }\n",
              "\n",
              "    .dataframe tbody tr th {\n",
              "        vertical-align: top;\n",
              "    }\n",
              "\n",
              "    .dataframe thead th {\n",
              "        text-align: right;\n",
              "    }\n",
              "</style>\n",
              "<table border=\"1\" class=\"dataframe\">\n",
              "  <thead>\n",
              "    <tr style=\"text-align: right;\">\n",
              "      <th></th>\n",
              "      <th>index</th>\n",
              "      <th>0</th>\n",
              "    </tr>\n",
              "  </thead>\n",
              "  <tbody>\n",
              "    <tr>\n",
              "      <th>0</th>\n",
              "      <td>0</td>\n",
              "      <td>C</td>\n",
              "    </tr>\n",
              "    <tr>\n",
              "      <th>1</th>\n",
              "      <td>1</td>\n",
              "      <td>B</td>\n",
              "    </tr>\n",
              "    <tr>\n",
              "      <th>2</th>\n",
              "      <td>2</td>\n",
              "      <td>A</td>\n",
              "    </tr>\n",
              "    <tr>\n",
              "      <th>3</th>\n",
              "      <td>3</td>\n",
              "      <td>D</td>\n",
              "    </tr>\n",
              "    <tr>\n",
              "      <th>4</th>\n",
              "      <td>4</td>\n",
              "      <td>E</td>\n",
              "    </tr>\n",
              "  </tbody>\n",
              "</table>\n",
              "</div>\n",
              "    <div class=\"colab-df-buttons\">\n",
              "\n",
              "  <div class=\"colab-df-container\">\n",
              "    <button class=\"colab-df-convert\" onclick=\"convertToInteractive('df-a4251432-ea26-4767-971c-419b7b8e4151')\"\n",
              "            title=\"Convert this dataframe to an interactive table.\"\n",
              "            style=\"display:none;\">\n",
              "\n",
              "  <svg xmlns=\"http://www.w3.org/2000/svg\" height=\"24px\" viewBox=\"0 -960 960 960\">\n",
              "    <path d=\"M120-120v-720h720v720H120Zm60-500h600v-160H180v160Zm220 220h160v-160H400v160Zm0 220h160v-160H400v160ZM180-400h160v-160H180v160Zm440 0h160v-160H620v160ZM180-180h160v-160H180v160Zm440 0h160v-160H620v160Z\"/>\n",
              "  </svg>\n",
              "    </button>\n",
              "\n",
              "  <style>\n",
              "    .colab-df-container {\n",
              "      display:flex;\n",
              "      gap: 12px;\n",
              "    }\n",
              "\n",
              "    .colab-df-convert {\n",
              "      background-color: #E8F0FE;\n",
              "      border: none;\n",
              "      border-radius: 50%;\n",
              "      cursor: pointer;\n",
              "      display: none;\n",
              "      fill: #1967D2;\n",
              "      height: 32px;\n",
              "      padding: 0 0 0 0;\n",
              "      width: 32px;\n",
              "    }\n",
              "\n",
              "    .colab-df-convert:hover {\n",
              "      background-color: #E2EBFA;\n",
              "      box-shadow: 0px 1px 2px rgba(60, 64, 67, 0.3), 0px 1px 3px 1px rgba(60, 64, 67, 0.15);\n",
              "      fill: #174EA6;\n",
              "    }\n",
              "\n",
              "    .colab-df-buttons div {\n",
              "      margin-bottom: 4px;\n",
              "    }\n",
              "\n",
              "    [theme=dark] .colab-df-convert {\n",
              "      background-color: #3B4455;\n",
              "      fill: #D2E3FC;\n",
              "    }\n",
              "\n",
              "    [theme=dark] .colab-df-convert:hover {\n",
              "      background-color: #434B5C;\n",
              "      box-shadow: 0px 1px 3px 1px rgba(0, 0, 0, 0.15);\n",
              "      filter: drop-shadow(0px 1px 2px rgba(0, 0, 0, 0.3));\n",
              "      fill: #FFFFFF;\n",
              "    }\n",
              "  </style>\n",
              "\n",
              "    <script>\n",
              "      const buttonEl =\n",
              "        document.querySelector('#df-a4251432-ea26-4767-971c-419b7b8e4151 button.colab-df-convert');\n",
              "      buttonEl.style.display =\n",
              "        google.colab.kernel.accessAllowed ? 'block' : 'none';\n",
              "\n",
              "      async function convertToInteractive(key) {\n",
              "        const element = document.querySelector('#df-a4251432-ea26-4767-971c-419b7b8e4151');\n",
              "        const dataTable =\n",
              "          await google.colab.kernel.invokeFunction('convertToInteractive',\n",
              "                                                    [key], {});\n",
              "        if (!dataTable) return;\n",
              "\n",
              "        const docLinkHtml = 'Like what you see? Visit the ' +\n",
              "          '<a target=\"_blank\" href=https://colab.research.google.com/notebooks/data_table.ipynb>data table notebook</a>'\n",
              "          + ' to learn more about interactive tables.';\n",
              "        element.innerHTML = '';\n",
              "        dataTable['output_type'] = 'display_data';\n",
              "        await google.colab.output.renderOutput(dataTable, element);\n",
              "        const docLink = document.createElement('div');\n",
              "        docLink.innerHTML = docLinkHtml;\n",
              "        element.appendChild(docLink);\n",
              "      }\n",
              "    </script>\n",
              "  </div>\n",
              "\n",
              "\n",
              "<div id=\"df-31246c0d-9ca7-469a-a048-923f88e8c122\">\n",
              "  <button class=\"colab-df-quickchart\" onclick=\"quickchart('df-31246c0d-9ca7-469a-a048-923f88e8c122')\"\n",
              "            title=\"Suggest charts\"\n",
              "            style=\"display:none;\">\n",
              "\n",
              "<svg xmlns=\"http://www.w3.org/2000/svg\" height=\"24px\"viewBox=\"0 0 24 24\"\n",
              "     width=\"24px\">\n",
              "    <g>\n",
              "        <path d=\"M19 3H5c-1.1 0-2 .9-2 2v14c0 1.1.9 2 2 2h14c1.1 0 2-.9 2-2V5c0-1.1-.9-2-2-2zM9 17H7v-7h2v7zm4 0h-2V7h2v10zm4 0h-2v-4h2v4z\"/>\n",
              "    </g>\n",
              "</svg>\n",
              "  </button>\n",
              "\n",
              "<style>\n",
              "  .colab-df-quickchart {\n",
              "      --bg-color: #E8F0FE;\n",
              "      --fill-color: #1967D2;\n",
              "      --hover-bg-color: #E2EBFA;\n",
              "      --hover-fill-color: #174EA6;\n",
              "      --disabled-fill-color: #AAA;\n",
              "      --disabled-bg-color: #DDD;\n",
              "  }\n",
              "\n",
              "  [theme=dark] .colab-df-quickchart {\n",
              "      --bg-color: #3B4455;\n",
              "      --fill-color: #D2E3FC;\n",
              "      --hover-bg-color: #434B5C;\n",
              "      --hover-fill-color: #FFFFFF;\n",
              "      --disabled-bg-color: #3B4455;\n",
              "      --disabled-fill-color: #666;\n",
              "  }\n",
              "\n",
              "  .colab-df-quickchart {\n",
              "    background-color: var(--bg-color);\n",
              "    border: none;\n",
              "    border-radius: 50%;\n",
              "    cursor: pointer;\n",
              "    display: none;\n",
              "    fill: var(--fill-color);\n",
              "    height: 32px;\n",
              "    padding: 0;\n",
              "    width: 32px;\n",
              "  }\n",
              "\n",
              "  .colab-df-quickchart:hover {\n",
              "    background-color: var(--hover-bg-color);\n",
              "    box-shadow: 0 1px 2px rgba(60, 64, 67, 0.3), 0 1px 3px 1px rgba(60, 64, 67, 0.15);\n",
              "    fill: var(--button-hover-fill-color);\n",
              "  }\n",
              "\n",
              "  .colab-df-quickchart-complete:disabled,\n",
              "  .colab-df-quickchart-complete:disabled:hover {\n",
              "    background-color: var(--disabled-bg-color);\n",
              "    fill: var(--disabled-fill-color);\n",
              "    box-shadow: none;\n",
              "  }\n",
              "\n",
              "  .colab-df-spinner {\n",
              "    border: 2px solid var(--fill-color);\n",
              "    border-color: transparent;\n",
              "    border-bottom-color: var(--fill-color);\n",
              "    animation:\n",
              "      spin 1s steps(1) infinite;\n",
              "  }\n",
              "\n",
              "  @keyframes spin {\n",
              "    0% {\n",
              "      border-color: transparent;\n",
              "      border-bottom-color: var(--fill-color);\n",
              "      border-left-color: var(--fill-color);\n",
              "    }\n",
              "    20% {\n",
              "      border-color: transparent;\n",
              "      border-left-color: var(--fill-color);\n",
              "      border-top-color: var(--fill-color);\n",
              "    }\n",
              "    30% {\n",
              "      border-color: transparent;\n",
              "      border-left-color: var(--fill-color);\n",
              "      border-top-color: var(--fill-color);\n",
              "      border-right-color: var(--fill-color);\n",
              "    }\n",
              "    40% {\n",
              "      border-color: transparent;\n",
              "      border-right-color: var(--fill-color);\n",
              "      border-top-color: var(--fill-color);\n",
              "    }\n",
              "    60% {\n",
              "      border-color: transparent;\n",
              "      border-right-color: var(--fill-color);\n",
              "    }\n",
              "    80% {\n",
              "      border-color: transparent;\n",
              "      border-right-color: var(--fill-color);\n",
              "      border-bottom-color: var(--fill-color);\n",
              "    }\n",
              "    90% {\n",
              "      border-color: transparent;\n",
              "      border-bottom-color: var(--fill-color);\n",
              "    }\n",
              "  }\n",
              "</style>\n",
              "\n",
              "  <script>\n",
              "    async function quickchart(key) {\n",
              "      const quickchartButtonEl =\n",
              "        document.querySelector('#' + key + ' button');\n",
              "      quickchartButtonEl.disabled = true;  // To prevent multiple clicks.\n",
              "      quickchartButtonEl.classList.add('colab-df-spinner');\n",
              "      try {\n",
              "        const charts = await google.colab.kernel.invokeFunction(\n",
              "            'suggestCharts', [key], {});\n",
              "      } catch (error) {\n",
              "        console.error('Error during call to suggestCharts:', error);\n",
              "      }\n",
              "      quickchartButtonEl.classList.remove('colab-df-spinner');\n",
              "      quickchartButtonEl.classList.add('colab-df-quickchart-complete');\n",
              "    }\n",
              "    (() => {\n",
              "      let quickchartButtonEl =\n",
              "        document.querySelector('#df-31246c0d-9ca7-469a-a048-923f88e8c122 button');\n",
              "      quickchartButtonEl.style.display =\n",
              "        google.colab.kernel.accessAllowed ? 'block' : 'none';\n",
              "    })();\n",
              "  </script>\n",
              "</div>\n",
              "    </div>\n",
              "  </div>\n"
            ]
          },
          "metadata": {},
          "execution_count": 31
        }
      ]
    },
    {
      "cell_type": "code",
      "source": [
        "#37. Write a Pandas program to stack two given series vertically and horizontally.\n",
        "\n",
        "series1 = pd.Series([1, 2, 3, 4])\n",
        "series2 = pd.Series(['A', 'B', 'C', 'D'])\n",
        "\n",
        "hor = pd.concat([series1, series2], axis=0)\n",
        "ver = pd.concat([series1, series2], axis=1)\n",
        "print(ver)"
      ],
      "metadata": {
        "colab": {
          "base_uri": "https://localhost:8080/"
        },
        "id": "0m-sxgAvo-V1",
        "outputId": "9b57040c-059e-4618-c415-b9d2a6885446"
      },
      "execution_count": null,
      "outputs": [
        {
          "output_type": "stream",
          "name": "stdout",
          "text": [
            "   0  1\n",
            "0  1  A\n",
            "1  2  B\n",
            "2  3  C\n",
            "3  4  D\n"
          ]
        }
      ]
    },
    {
      "cell_type": "code",
      "source": [
        "#38. Write a Pandas program to check the equality of two given series\n",
        "series3 = pd.Series([1, 8, 7, 5, 6, 5, 3, 4, 7, 1])\n",
        "series4 = pd.Series([1, 8, 7, 3, 4, 7, 1, 5, 6, 5])\n",
        "\n",
        "eq = series3 == series4\n",
        "print(eq)"
      ],
      "metadata": {
        "colab": {
          "base_uri": "https://localhost:8080/"
        },
        "id": "2PiMhhaRpgkD",
        "outputId": "ed053758-8542-4ea7-81dc-e1fd41620539"
      },
      "execution_count": null,
      "outputs": [
        {
          "output_type": "stream",
          "name": "stdout",
          "text": [
            "0     True\n",
            "1     True\n",
            "2     True\n",
            "3    False\n",
            "4    False\n",
            "5    False\n",
            "6    False\n",
            "7    False\n",
            "8    False\n",
            "9    False\n",
            "dtype: bool\n"
          ]
        }
      ]
    },
    {
      "cell_type": "code",
      "source": [
        "#39. Write a Pandas program to find the index of the first occurrence of the smallest and largest value of a given series.\n",
        "ser5 = pd.Series([1, 3, 7, 12, 88, 23, 3, 1, 9, 0])\n",
        "max_ind = ser5.idxmax()\n",
        "min_ind = ser5.idxmin()\n",
        "\n",
        "print(max_ind)\n",
        "print(min_ind)\n"
      ],
      "metadata": {
        "colab": {
          "base_uri": "https://localhost:8080/"
        },
        "id": "_1cx2JcRqfwH",
        "outputId": "6c21f3c0-48b3-4e2b-e7d0-3f55b8b4b770"
      },
      "execution_count": null,
      "outputs": [
        {
          "output_type": "stream",
          "name": "stdout",
          "text": [
            "4\n",
            "9\n"
          ]
        }
      ]
    },
    {
      "cell_type": "code",
      "source": [
        "#40. Write a Pandas program to check inequality over the index axis of a given data frame and a given series.\n",
        "data={'W': [68.0, 75.0, 86.0, 80.0, None],\n",
        "        'X': [78.0, 75.0, None, 80.0, 86.0],\n",
        "        'Y': [84, 94, 89, 86, 86],\n",
        "        'Z': [86, 97, 96, 72, 83]}\n",
        "df = pd.DataFrame(data)\n",
        "ser6 = pd.Series([68.0, 75.0, 86.0, 80.0, None])\n",
        "\n",
        "ineq= df != ser6[:, None]\n",
        "print(ineq)"
      ],
      "metadata": {
        "colab": {
          "base_uri": "https://localhost:8080/"
        },
        "id": "eAvQOMWRrbQ1",
        "outputId": "ffe3ad33-a86f-44d1-e18f-1d2a46b8fa9e"
      },
      "execution_count": null,
      "outputs": [
        {
          "output_type": "stream",
          "name": "stdout",
          "text": [
            "       W      X     Y     Z\n",
            "0  False   True  True  True\n",
            "1  False  False  True  True\n",
            "2  False   True  True  True\n",
            "3  False  False  True  True\n",
            "4   True   True  True  True\n"
          ]
        },
        {
          "output_type": "stream",
          "name": "stderr",
          "text": [
            "<ipython-input-42-2f7609b4d715>:9: FutureWarning: Support for multi-dimensional indexing (e.g. `obj[:, None]`) is deprecated and will be removed in a future version.  Convert to a numpy array before indexing instead.\n",
            "  ineq= df != ser6[:, None]\n"
          ]
        }
      ]
    }
  ]
}