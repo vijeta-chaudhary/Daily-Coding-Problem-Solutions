{
  "nbformat": 4,
  "nbformat_minor": 0,
  "metadata": {
    "colab": {
      "provenance": [],
      "include_colab_link": true
    },
    "kernelspec": {
      "name": "python3",
      "display_name": "Python 3"
    },
    "language_info": {
      "name": "python"
    }
  },
  "cells": [
    {
      "cell_type": "markdown",
      "metadata": {
        "id": "view-in-github",
        "colab_type": "text"
      },
      "source": [
        "<a href=\"https://colab.research.google.com/github/vijeta-chaudhary/Daily-Coding-Problem-Solutions/blob/master/joining_merging.ipynb\" target=\"_parent\"><img src=\"https://colab.research.google.com/assets/colab-badge.svg\" alt=\"Open In Colab\"/></a>"
      ]
    },
    {
      "cell_type": "code",
      "execution_count": null,
      "metadata": {
        "colab": {
          "base_uri": "https://localhost:8080/"
        },
        "id": "DlUrxe_CyB-z",
        "outputId": "39b2e52d-b152-4c84-ac2c-0e2bc42d0891"
      },
      "outputs": [
        {
          "output_type": "stream",
          "name": "stdout",
          "text": [
            "Original DataFrames:\n",
            "  student_id              name  marks\n",
            "0         S1  Danniella Fenton    200\n",
            "1         S2      Ryder Storey    210\n",
            "2         S3      Bryce Jensen    190\n",
            "3         S4         Ed Bernal    222\n",
            "4         S5       Kwame Morin    199\n",
            "*****************************************\n",
            "  student_id              name  marks\n",
            "0         S4  Scarlette Fisher    201\n",
            "1         S5  Carla Williamson    200\n",
            "2         S6       Dante Morse    198\n",
            "3         S7    Kaiser William    219\n",
            "4         S8   Madeeha Preston    201\n",
            "*****************************************\n",
            "\n",
            "Join the said two dataframes along rows:\n",
            "  student_id              name  marks\n",
            "0         S1  Danniella Fenton    200\n",
            "1         S2      Ryder Storey    210\n",
            "2         S3      Bryce Jensen    190\n",
            "3         S4         Ed Bernal    222\n",
            "4         S5       Kwame Morin    199\n",
            "0         S4  Scarlette Fisher    201\n",
            "1         S5  Carla Williamson    200\n",
            "2         S6       Dante Morse    198\n",
            "3         S7    Kaiser William    219\n",
            "4         S8   Madeeha Preston    201\n"
          ]
        }
      ],
      "source": [
        "# 1 : Write a Pandas program to join the two given dataframes along rows and assign all data.\n",
        "\n",
        "import pandas as pd\n",
        "\n",
        "student_data1 = pd.DataFrame({\n",
        "        'student_id': ['S1', 'S2', 'S3', 'S4', 'S5'],\n",
        "         'name': ['Danniella Fenton', 'Ryder Storey', 'Bryce Jensen', 'Ed Bernal', 'Kwame Morin'],\n",
        "        'marks': [200, 210, 190, 222, 199]})\n",
        "\n",
        "student_data2 = pd.DataFrame({\n",
        "        'student_id': ['S4', 'S5', 'S6', 'S7', 'S8'],\n",
        "        'name': ['Scarlette Fisher', 'Carla Williamson', 'Dante Morse', 'Kaiser William', 'Madeeha Preston'],\n",
        "        'marks': [201, 200, 198, 219, 201]})\n",
        "\n",
        "print(\"Original DataFrames:\")\n",
        "print(student_data1)\n",
        "print(\"*****************************************\")\n",
        "print(student_data2)\n",
        "print(\"*****************************************\")\n",
        "print(\"\\nJoin the said two dataframes along rows:\")\n",
        "result_data = pd.concat([student_data1, student_data2])\n",
        "print(result_data)\n"
      ]
    },
    {
      "cell_type": "code",
      "source": [
        "# 2 Write a Pandas program to join the two given dataframes along columns and assign all data.\n",
        "\n",
        "import pandas as pd\n",
        "\n",
        "student_data1 = pd.DataFrame({\n",
        "        'student_id': ['S1', 'S2', 'S3', 'S4', 'S5'],\n",
        "         'name': ['Danniella Fenton', 'Ryder Storey', 'Bryce Jensen', 'Ed Bernal', 'Kwame Morin'],\n",
        "        'marks': [200, 210, 190, 222, 199]})\n",
        "\n",
        "student_data2 = pd.DataFrame({\n",
        "        'student_id': ['S4', 'S5', 'S6', 'S7', 'S8'],\n",
        "        'name': ['Scarlette Fisher', 'Carla Williamson', 'Dante Morse', 'Kaiser William', 'Madeeha Preston'],\n",
        "        'marks': [201, 200, 198, 219, 201]})\n",
        "\n",
        "print(\"Original DataFrames:\")\n",
        "print(student_data1)\n",
        "print(\"**********************************\")\n",
        "print(student_data2)\n",
        "print(\"**********************************\")\n",
        "print(\"\\nJoin the said two dataframes along columns:\")\n",
        "result_data = pd.concat([student_data1, student_data2], axis = 1)  # axis = 1 is used for columns\n",
        "print(result_data)\n"
      ],
      "metadata": {
        "colab": {
          "base_uri": "https://localhost:8080/"
        },
        "id": "5vDyWoHF0QYN",
        "outputId": "5fa2289f-6452-463c-f61e-cd6e201717fc"
      },
      "execution_count": null,
      "outputs": [
        {
          "output_type": "stream",
          "name": "stdout",
          "text": [
            "Original DataFrames:\n",
            "  student_id              name  marks\n",
            "0         S1  Danniella Fenton    200\n",
            "1         S2      Ryder Storey    210\n",
            "2         S3      Bryce Jensen    190\n",
            "3         S4         Ed Bernal    222\n",
            "4         S5       Kwame Morin    199\n",
            "**********************************\n",
            "  student_id              name  marks\n",
            "0         S4  Scarlette Fisher    201\n",
            "1         S5  Carla Williamson    200\n",
            "2         S6       Dante Morse    198\n",
            "3         S7    Kaiser William    219\n",
            "4         S8   Madeeha Preston    201\n",
            "**********************************\n",
            "\n",
            "Join the said two dataframes along columns:\n",
            "  student_id              name  marks student_id              name  marks\n",
            "0         S1  Danniella Fenton    200         S4  Scarlette Fisher    201\n",
            "1         S2      Ryder Storey    210         S5  Carla Williamson    200\n",
            "2         S3      Bryce Jensen    190         S6       Dante Morse    198\n",
            "3         S4         Ed Bernal    222         S7    Kaiser William    219\n",
            "4         S5       Kwame Morin    199         S8   Madeeha Preston    201\n"
          ]
        }
      ]
    },
    {
      "cell_type": "code",
      "source": [
        "# 3: Write a Pandas program to append rows to an existing DataFrame and display the combined data\n",
        "\n",
        "import pandas as pd\n",
        "student_data1 = pd.DataFrame({\n",
        "        'student_id': ['S1', 'S2', 'S3', 'S4', 'S5'],\n",
        "         'name': ['Danniella Fenton', 'Ryder Storey', 'Bryce Jensen', 'Ed Bernal', 'Kwame Morin'],\n",
        "        'marks': [200, 210, 190, 222, 199]})\n",
        "\n",
        "s6 = pd.Series(['S6', 'Scarlette Fisher', 205], index=['student_id', 'name', 'marks'])\n",
        "print(\"Original DataFrames:\")\n",
        "print(student_data1)\n",
        "print(\"\\nNew Row(s)\")\n",
        "print(s6)\n",
        "combined_data = student_data1.append(s6, ignore_index = True)\n",
        "print(\"\\nCombined Data:\")\n",
        "print(combined_data)\n"
      ],
      "metadata": {
        "colab": {
          "base_uri": "https://localhost:8080/"
        },
        "id": "2FnXUmd70pAK",
        "outputId": "cb1b1ed9-d84c-485b-f06b-18d4084c2c60"
      },
      "execution_count": null,
      "outputs": [
        {
          "output_type": "stream",
          "name": "stdout",
          "text": [
            "Original DataFrames:\n",
            "  student_id              name  marks\n",
            "0         S1  Danniella Fenton    200\n",
            "1         S2      Ryder Storey    210\n",
            "2         S3      Bryce Jensen    190\n",
            "3         S4         Ed Bernal    222\n",
            "4         S5       Kwame Morin    199\n",
            "\n",
            "New Row(s)\n",
            "student_id                  S6\n",
            "name          Scarlette Fisher\n",
            "marks                      205\n",
            "dtype: object\n",
            "\n",
            "Combined Data:\n",
            "  student_id              name  marks\n",
            "0         S1  Danniella Fenton    200\n",
            "1         S2      Ryder Storey    210\n",
            "2         S3      Bryce Jensen    190\n",
            "3         S4         Ed Bernal    222\n",
            "4         S5       Kwame Morin    199\n",
            "5         S6  Scarlette Fisher    205\n"
          ]
        },
        {
          "output_type": "stream",
          "name": "stderr",
          "text": [
            "<ipython-input-5-467a793afaa4>:14: FutureWarning: The frame.append method is deprecated and will be removed from pandas in a future version. Use pandas.concat instead.\n",
            "  combined_data = student_data1.append(s6, ignore_index = True)\n"
          ]
        }
      ]
    },
    {
      "cell_type": "code",
      "source": [
        "# 4. Write a Pandas program to append a list of dictioneries or series to a existing DataFrame and display the combined data.\n",
        "\n",
        "import pandas as pd\n",
        "student_data1  = pd.DataFrame({\n",
        "        'student_id': ['S1', 'S2', 'S3', 'S4', 'S5'],\n",
        "         'name': ['Danniella Fenton', 'Ryder Storey', 'Bryce Jensen', 'Ed Bernal', 'Kwame Morin'],\n",
        "        'marks': [200, 210, 190, 222, 199]})\n",
        "\n",
        "s6 = pd.Series(['S6', 'Scarlette Fisher', 205], index=['student_id', 'name', 'marks'])\n",
        "\n",
        "\n",
        "dicts = [{'student_id': 'S6', 'name': 'Scarlette Fisher', 'marks': 203},\n",
        "         {'student_id': 'S7', 'name': 'Bryce Jensen', 'marks': 207}]\n",
        "\n",
        "print(\"Original DataFrames:\")\n",
        "print(student_data1)\n",
        "print(\"\\nDictionary:\")\n",
        "print(s6)\n",
        "combined_data =  student_data1.append(dicts, ignore_index=True, sort=False)\n",
        "print(\"\\nCombined Data:\")\n",
        "print(combined_data)\n"
      ],
      "metadata": {
        "colab": {
          "base_uri": "https://localhost:8080/"
        },
        "id": "tqeLBVZw02Xj",
        "outputId": "4abcc3a6-2c7b-46c8-dd69-17bd6f4265a8"
      },
      "execution_count": null,
      "outputs": [
        {
          "output_type": "stream",
          "name": "stdout",
          "text": [
            "Original DataFrames:\n",
            "  student_id              name  marks\n",
            "0         S1  Danniella Fenton    200\n",
            "1         S2      Ryder Storey    210\n",
            "2         S3      Bryce Jensen    190\n",
            "3         S4         Ed Bernal    222\n",
            "4         S5       Kwame Morin    199\n",
            "\n",
            "Dictionary:\n",
            "student_id                  S6\n",
            "name          Scarlette Fisher\n",
            "marks                      205\n",
            "dtype: object\n",
            "\n",
            "Combined Data:\n",
            "  student_id              name  marks\n",
            "0         S1  Danniella Fenton    200\n",
            "1         S2      Ryder Storey    210\n",
            "2         S3      Bryce Jensen    190\n",
            "3         S4         Ed Bernal    222\n",
            "4         S5       Kwame Morin    199\n",
            "5         S6  Scarlette Fisher    203\n",
            "6         S7      Bryce Jensen    207\n"
          ]
        },
        {
          "output_type": "stream",
          "name": "stderr",
          "text": [
            "<ipython-input-6-e25078f1cbeb>:19: FutureWarning: The frame.append method is deprecated and will be removed from pandas in a future version. Use pandas.concat instead.\n",
            "  combined_data =  student_data1.append(dicts, ignore_index=True, sort=False)\n"
          ]
        }
      ]
    },
    {
      "cell_type": "code",
      "source": [
        "# 5. Write a Pandas program to join the two given dataframes along rows and merge with another dataframe along the common column id.\n",
        "\n",
        "import pandas as pd\n",
        "student_data1 = pd.DataFrame({\n",
        "        'student_id': ['S1', 'S2', 'S3', 'S4', 'S5'],\n",
        "         'name': ['Danniella Fenton', 'Ryder Storey', 'Bryce Jensen', 'Ed Bernal', 'Kwame Morin'],\n",
        "        'marks': [200, 210, 190, 222, 199]})\n",
        "\n",
        "student_data2 = pd.DataFrame({\n",
        "        'student_id': ['S4', 'S5', 'S6', 'S7', 'S8'],\n",
        "        'name': ['Scarlette Fisher', 'Carla Williamson', 'Dante Morse', 'Kaiser William', 'Madeeha Preston'],\n",
        "        'marks': [201, 200, 198, 219, 201]})\n",
        "\n",
        "exam_data = pd.DataFrame({\n",
        "        'student_id': ['S1', 'S2', 'S3', 'S4', 'S5', 'S7', 'S8', 'S9', 'S10', 'S11', 'S12', 'S13'],\n",
        "        'exam_id': [23, 45, 12, 67, 21, 55, 33, 14, 56, 83, 88, 12]})\n",
        "\n",
        "print(\"Original DataFrames:\")\n",
        "print(student_data1)\n",
        "print(student_data2)\n",
        "print(exam_data)\n",
        "\n",
        "print(\"\\nJoin first two said dataframes along rows:\")\n",
        "result_data = pd.concat([student_data1, student_data2])\n",
        "print(result_data)\n",
        "\n",
        "print(\"\\nNow join the said result_data and df_exam_data along student_id:\")\n",
        "final_merged_data = pd.merge(result_data, exam_data, on='student_id')\n",
        "print(final_merged_data)\n"
      ],
      "metadata": {
        "colab": {
          "base_uri": "https://localhost:8080/"
        },
        "id": "E70jQglg1BTP",
        "outputId": "037faa47-6e70-4fc6-cbd5-1d62133fd327"
      },
      "execution_count": null,
      "outputs": [
        {
          "output_type": "stream",
          "name": "stdout",
          "text": [
            "Original DataFrames:\n",
            "  student_id              name  marks\n",
            "0         S1  Danniella Fenton    200\n",
            "1         S2      Ryder Storey    210\n",
            "2         S3      Bryce Jensen    190\n",
            "3         S4         Ed Bernal    222\n",
            "4         S5       Kwame Morin    199\n",
            "  student_id              name  marks\n",
            "0         S4  Scarlette Fisher    201\n",
            "1         S5  Carla Williamson    200\n",
            "2         S6       Dante Morse    198\n",
            "3         S7    Kaiser William    219\n",
            "4         S8   Madeeha Preston    201\n",
            "   student_id  exam_id\n",
            "0          S1       23\n",
            "1          S2       45\n",
            "2          S3       12\n",
            "3          S4       67\n",
            "4          S5       21\n",
            "5          S7       55\n",
            "6          S8       33\n",
            "7          S9       14\n",
            "8         S10       56\n",
            "9         S11       83\n",
            "10        S12       88\n",
            "11        S13       12\n",
            "\n",
            "Join first two said dataframes along rows:\n",
            "  student_id              name  marks\n",
            "0         S1  Danniella Fenton    200\n",
            "1         S2      Ryder Storey    210\n",
            "2         S3      Bryce Jensen    190\n",
            "3         S4         Ed Bernal    222\n",
            "4         S5       Kwame Morin    199\n",
            "0         S4  Scarlette Fisher    201\n",
            "1         S5  Carla Williamson    200\n",
            "2         S6       Dante Morse    198\n",
            "3         S7    Kaiser William    219\n",
            "4         S8   Madeeha Preston    201\n",
            "\n",
            "Now join the said result_data and df_exam_data along student_id:\n",
            "  student_id              name  marks  exam_id\n",
            "0         S1  Danniella Fenton    200       23\n",
            "1         S2      Ryder Storey    210       45\n",
            "2         S3      Bryce Jensen    190       12\n",
            "3         S4         Ed Bernal    222       67\n",
            "4         S4  Scarlette Fisher    201       67\n",
            "5         S5       Kwame Morin    199       21\n",
            "6         S5  Carla Williamson    200       21\n",
            "7         S7    Kaiser William    219       55\n",
            "8         S8   Madeeha Preston    201       33\n"
          ]
        }
      ]
    },
    {
      "cell_type": "code",
      "source": [
        "# 6. Write a Pandas program to join the two dataframes using the common column of both dataframes.\n",
        "\n",
        "import pandas as pd\n",
        "student_data1 = pd.DataFrame({\n",
        "        'student_id': ['S1', 'S2', 'S3', 'S4', 'S5'],\n",
        "         'name': ['Danniella Fenton', 'Ryder Storey', 'Bryce Jensen', 'Ed Bernal', 'Kwame Morin'],\n",
        "        'marks': [200, 210, 190, 222, 199]})\n",
        "\n",
        "student_data2 = pd.DataFrame({\n",
        "        'student_id': ['S4', 'S5', 'S6', 'S7', 'S8'],\n",
        "        'name': ['Scarlette Fisher', 'Carla Williamson', 'Dante Morse', 'Kaiser William', 'Madeeha Preston'],\n",
        "        'marks': [201, 200, 198, 219, 201]})\n",
        "\n",
        "print(\"Original DataFrames:\")\n",
        "print(student_data1)\n",
        "print(student_data2)\n",
        "merged_data = pd.merge(student_data1, student_data2, on='student_id', how='inner')\n",
        "print(\"Merged data (inner join):\")\n",
        "print(merged_data)\n"
      ],
      "metadata": {
        "colab": {
          "base_uri": "https://localhost:8080/"
        },
        "id": "iZ4RkjlX1XWt",
        "outputId": "fafe14b3-6540-4b50-c117-ef8bc009f0cc"
      },
      "execution_count": null,
      "outputs": [
        {
          "output_type": "stream",
          "name": "stdout",
          "text": [
            "Original DataFrames:\n",
            "  student_id              name  marks\n",
            "0         S1  Danniella Fenton    200\n",
            "1         S2      Ryder Storey    210\n",
            "2         S3      Bryce Jensen    190\n",
            "3         S4         Ed Bernal    222\n",
            "4         S5       Kwame Morin    199\n",
            "  student_id              name  marks\n",
            "0         S4  Scarlette Fisher    201\n",
            "1         S5  Carla Williamson    200\n",
            "2         S6       Dante Morse    198\n",
            "3         S7    Kaiser William    219\n",
            "4         S8   Madeeha Preston    201\n",
            "Merged data (inner join):\n",
            "  student_id       name_x  marks_x            name_y  marks_y\n",
            "0         S4    Ed Bernal      222  Scarlette Fisher      201\n",
            "1         S5  Kwame Morin      199  Carla Williamson      200\n"
          ]
        }
      ]
    },
    {
      "cell_type": "code",
      "source": [
        "# 7. Write a Pandas program to join the two dataframes with matching records from both sides where available\n",
        "\n",
        "import pandas as pd\n",
        "student_data1 = pd.DataFrame({\n",
        "        'student_id': ['S1', 'S2', 'S3', 'S4', 'S5'],\n",
        "         'name': ['Danniella Fenton', 'Ryder Storey', 'Bryce Jensen', 'Ed Bernal', 'Kwame Morin'],\n",
        "        'marks': [200, 210, 190, 222, 199]})\n",
        "\n",
        "student_data2 = pd.DataFrame({\n",
        "        'student_id': ['S4', 'S5', 'S6', 'S7', 'S8'],\n",
        "        'name': ['Scarlette Fisher', 'Carla Williamson', 'Dante Morse', 'Kaiser William', 'Madeeha Preston'],\n",
        "        'marks': [201, 200, 198, 219, 201]})\n",
        "\n",
        "print(\"Original DataFrames:\")\n",
        "print(student_data1)\n",
        "print(student_data2)\n",
        "merged_data = pd.merge(student_data1, student_data2, on='student_id', how='outer')\n",
        "print(\"Merged data (outer join):\")\n",
        "print(merged_data)\n"
      ],
      "metadata": {
        "colab": {
          "base_uri": "https://localhost:8080/"
        },
        "id": "GjqBjtnC1n2A",
        "outputId": "aa96cd3b-15b9-44f7-9ca7-e6a705172318"
      },
      "execution_count": null,
      "outputs": [
        {
          "output_type": "stream",
          "name": "stdout",
          "text": [
            "Original DataFrames:\n",
            "  student_id              name  marks\n",
            "0         S1  Danniella Fenton    200\n",
            "1         S2      Ryder Storey    210\n",
            "2         S3      Bryce Jensen    190\n",
            "3         S4         Ed Bernal    222\n",
            "4         S5       Kwame Morin    199\n",
            "  student_id              name  marks\n",
            "0         S4  Scarlette Fisher    201\n",
            "1         S5  Carla Williamson    200\n",
            "2         S6       Dante Morse    198\n",
            "3         S7    Kaiser William    219\n",
            "4         S8   Madeeha Preston    201\n",
            "Merged data (outer join):\n",
            "  student_id            name_x  marks_x            name_y  marks_y\n",
            "0         S1  Danniella Fenton    200.0               NaN      NaN\n",
            "1         S2      Ryder Storey    210.0               NaN      NaN\n",
            "2         S3      Bryce Jensen    190.0               NaN      NaN\n",
            "3         S4         Ed Bernal    222.0  Scarlette Fisher    201.0\n",
            "4         S5       Kwame Morin    199.0  Carla Williamson    200.0\n",
            "5         S6               NaN      NaN       Dante Morse    198.0\n",
            "6         S7               NaN      NaN    Kaiser William    219.0\n",
            "7         S8               NaN      NaN   Madeeha Preston    201.0\n"
          ]
        }
      ]
    },
    {
      "cell_type": "code",
      "source": [
        "# 8. Write a Pandas program to join (left join) the two dataframes using keys from left dataframe only.\n",
        "\n",
        "import pandas as pd\n",
        "data1 = pd.DataFrame({'key1': ['K0', 'K0', 'K1', 'K2'],\n",
        "                     'key2': ['K0', 'K1', 'K0', 'K1'],\n",
        "                     'P': ['P0', 'P1', 'P2', 'P3'],\n",
        "                     'Q': ['Q0', 'Q1', 'Q2', 'Q3']})\n",
        "data2 = pd.DataFrame({'key1': ['K0', 'K1', 'K1', 'K2'],\n",
        "                      'key2': ['K0', 'K0', 'K0', 'K0'],\n",
        "                      'R': ['R0', 'R1', 'R2', 'R3'],\n",
        "                      'S': ['S0', 'S1', 'S2', 'S3']})\n",
        "print(\"Original DataFrames:\")\n",
        "print(data1)\n",
        "print(\"--------------------\")\n",
        "print(data2)\n",
        "print(\"\\nMerged Data (keys from data1):\")\n",
        "merged_data = pd.merge(data1, data2, how='left', on=['key1', 'key2'])\n",
        "print(merged_data)\n",
        "print(\"\\nMerged Data (keys from data2):\")\n",
        "merged_data = pd.merge(data2, data1, how='left', on=['key1', 'key2'])\n",
        "print(merged_data)\n"
      ],
      "metadata": {
        "colab": {
          "base_uri": "https://localhost:8080/"
        },
        "id": "VOK_Bcv-11gV",
        "outputId": "7d52013c-31c0-4532-a505-98e1e897ebe7"
      },
      "execution_count": null,
      "outputs": [
        {
          "output_type": "stream",
          "name": "stdout",
          "text": [
            "Original DataFrames:\n",
            "  key1 key2   P   Q\n",
            "0   K0   K0  P0  Q0\n",
            "1   K0   K1  P1  Q1\n",
            "2   K1   K0  P2  Q2\n",
            "3   K2   K1  P3  Q3\n",
            "--------------------\n",
            "  key1 key2   R   S\n",
            "0   K0   K0  R0  S0\n",
            "1   K1   K0  R1  S1\n",
            "2   K1   K0  R2  S2\n",
            "3   K2   K0  R3  S3\n",
            "\n",
            "Merged Data (keys from data1):\n",
            "  key1 key2   P   Q    R    S\n",
            "0   K0   K0  P0  Q0   R0   S0\n",
            "1   K0   K1  P1  Q1  NaN  NaN\n",
            "2   K1   K0  P2  Q2   R1   S1\n",
            "3   K1   K0  P2  Q2   R2   S2\n",
            "4   K2   K1  P3  Q3  NaN  NaN\n",
            "\n",
            "Merged Data (keys from data2):\n",
            "  key1 key2   R   S    P    Q\n",
            "0   K0   K0  R0  S0   P0   Q0\n",
            "1   K1   K0  R1  S1   P2   Q2\n",
            "2   K1   K0  R2  S2   P2   Q2\n",
            "3   K2   K0  R3  S3  NaN  NaN\n"
          ]
        }
      ]
    },
    {
      "cell_type": "code",
      "source": [
        "# 9. Write a Pandas program to join two dataframes using keys from right dataframe only.\n",
        "\n",
        "import pandas as pd\n",
        "data1 = pd.DataFrame({'key1': ['K0', 'K0', 'K1', 'K2'],\n",
        "                     'key2': ['K0', 'K1', 'K0', 'K1'],\n",
        "                     'P': ['P0', 'P1', 'P2', 'P3'],\n",
        "                     'Q': ['Q0', 'Q1', 'Q2', 'Q3']})\n",
        "data2 = pd.DataFrame({'key1': ['K0', 'K1', 'K1', 'K2'],\n",
        "                      'key2': ['K0', 'K0', 'K0', 'K0'],\n",
        "                      'R': ['R0', 'R1', 'R2', 'R3'],\n",
        "                      'S': ['S0', 'S1', 'S2', 'S3']})\n",
        "print(\"Original DataFrames:\")\n",
        "print(data1)\n",
        "print(\"--------------------\")\n",
        "print(data2)\n",
        "print(\"\\nMerged Data (keys from data2):\")\n",
        "merged_data = pd.merge(data1, data2, how='right', on=['key1', 'key2'])\n",
        "print(merged_data)\n",
        "print(\"\\nMerged Data (keys from data1):\")\n",
        "merged_data = pd.merge(data2, data1, how='right', on=['key1', 'key2'])\n",
        "print(merged_data)\n"
      ],
      "metadata": {
        "colab": {
          "base_uri": "https://localhost:8080/"
        },
        "id": "dtFUpkpU2EuV",
        "outputId": "ba6fe89a-4e25-4c62-819e-6f29dd7a6155"
      },
      "execution_count": null,
      "outputs": [
        {
          "output_type": "stream",
          "name": "stdout",
          "text": [
            "Original DataFrames:\n",
            "  key1 key2   P   Q\n",
            "0   K0   K0  P0  Q0\n",
            "1   K0   K1  P1  Q1\n",
            "2   K1   K0  P2  Q2\n",
            "3   K2   K1  P3  Q3\n",
            "--------------------\n",
            "  key1 key2   R   S\n",
            "0   K0   K0  R0  S0\n",
            "1   K1   K0  R1  S1\n",
            "2   K1   K0  R2  S2\n",
            "3   K2   K0  R3  S3\n",
            "\n",
            "Merged Data (keys from data2):\n",
            "  key1 key2    P    Q   R   S\n",
            "0   K0   K0   P0   Q0  R0  S0\n",
            "1   K1   K0   P2   Q2  R1  S1\n",
            "2   K1   K0   P2   Q2  R2  S2\n",
            "3   K2   K0  NaN  NaN  R3  S3\n",
            "\n",
            "Merged Data (keys from data1):\n",
            "  key1 key2    R    S   P   Q\n",
            "0   K0   K0   R0   S0  P0  Q0\n",
            "1   K0   K1  NaN  NaN  P1  Q1\n",
            "2   K1   K0   R1   S1  P2  Q2\n",
            "3   K1   K0   R2   S2  P2  Q2\n",
            "4   K2   K1  NaN  NaN  P3  Q3\n"
          ]
        }
      ]
    },
    {
      "cell_type": "code",
      "source": [
        "# 10. Write a Pandas program to merge two given datasets using multiple join keys.\n",
        "\n",
        "import pandas as pd\n",
        "data1 = pd.DataFrame({'key1': ['K0', 'K0', 'K1', 'K2'],\n",
        "                     'key2': ['K0', 'K1', 'K0', 'K1'],\n",
        "                     'P': ['P0', 'P1', 'P2', 'P3'],\n",
        "                     'Q': ['Q0', 'Q1', 'Q2', 'Q3']})\n",
        "data2 = pd.DataFrame({'key1': ['K0', 'K1', 'K1', 'K2'],\n",
        "                      'key2': ['K0', 'K0', 'K0', 'K0'],\n",
        "                      'R': ['R0', 'R1', 'R2', 'R3'],\n",
        "                      'S': ['S0', 'S1', 'S2', 'S3']})\n",
        "print(\"Original DataFrames:\")\n",
        "print(data1)\n",
        "print(\"--------------------\")\n",
        "print(data2)\n",
        "print(\"\\nMerged Data:\")\n",
        "merged_data = pd.merge(data1, data2, on=['key1', 'key2'])\n",
        "print(merged_data)\n"
      ],
      "metadata": {
        "colab": {
          "base_uri": "https://localhost:8080/"
        },
        "id": "bB7airSt2OP3",
        "outputId": "b00beba7-4bbd-47f6-c312-fd62e2dc947e"
      },
      "execution_count": null,
      "outputs": [
        {
          "output_type": "stream",
          "name": "stdout",
          "text": [
            "Original DataFrames:\n",
            "  key1 key2   P   Q\n",
            "0   K0   K0  P0  Q0\n",
            "1   K0   K1  P1  Q1\n",
            "2   K1   K0  P2  Q2\n",
            "3   K2   K1  P3  Q3\n",
            "--------------------\n",
            "  key1 key2   R   S\n",
            "0   K0   K0  R0  S0\n",
            "1   K1   K0  R1  S1\n",
            "2   K1   K0  R2  S2\n",
            "3   K2   K0  R3  S3\n",
            "\n",
            "Merged Data:\n",
            "  key1 key2   P   Q   R   S\n",
            "0   K0   K0  P0  Q0  R0  S0\n",
            "1   K1   K0  P2  Q2  R1  S1\n",
            "2   K1   K0  P2  Q2  R2  S2\n"
          ]
        }
      ]
    },
    {
      "cell_type": "code",
      "source": [
        "# 11. Write a Pandas program to create a new DataFrame based on existing series, using specified argument and override the existing columns names.\n",
        "\n",
        "import pandas as pd\n",
        "s1 = pd.Series([0, 1, 2, 3], name='col1')\n",
        "s2 = pd.Series([0, 1, 2, 3])\n",
        "s3 = pd.Series([0, 1, 4, 5], name='col3')\n",
        "df = pd.concat([s1, s2, s3], axis=1, keys=['column1', 'column2', 'column3'])\n",
        "print(df)\n"
      ],
      "metadata": {
        "colab": {
          "base_uri": "https://localhost:8080/"
        },
        "id": "FvRw4EeL2XQt",
        "outputId": "1d73fcd7-79dd-43e7-adf4-c84499e783b5"
      },
      "execution_count": null,
      "outputs": [
        {
          "output_type": "stream",
          "name": "stdout",
          "text": [
            "   column1  column2  column3\n",
            "0        0        0        0\n",
            "1        1        1        1\n",
            "2        2        2        4\n",
            "3        3        3        5\n"
          ]
        }
      ]
    },
    {
      "cell_type": "code",
      "source": [
        "# 12. Write a Pandas program to create a combination from two dataframes where a column id combination appears more than once in both dataframes.\n",
        "\n",
        "import pandas as pd\n",
        "data1 = pd.DataFrame({'key1': ['K0', 'K0', 'K1', 'K2'],\n",
        "                     'key2': ['K0', 'K1', 'K0', 'K1'],\n",
        "                     'P': ['P0', 'P1', 'P2', 'P3'],\n",
        "                     'Q': ['Q0', 'Q1', 'Q2', 'Q3']})\n",
        "data2 = pd.DataFrame({'key1': ['K0', 'K1', 'K1', 'K2'],\n",
        "                      'key2': ['K0', 'K0', 'K0', 'K0'],\n",
        "                      'R': ['R0', 'R1', 'R2', 'R3'],\n",
        "                      'S': ['S0', 'S1', 'S2', 'S3']})\n",
        "print(\"Original DataFrames:\")\n",
        "print(data1)\n",
        "print(\"--------------------\")\n",
        "print(data2)\n",
        "print(\"\\nMerged Data (many-to-many join case):\")\n",
        "result = pd.merge(data1, data2, on='key1')\n",
        "print(result)\n"
      ],
      "metadata": {
        "colab": {
          "base_uri": "https://localhost:8080/"
        },
        "id": "H8h5b3A52egO",
        "outputId": "394d31f9-d4c3-4924-91a4-447617558658"
      },
      "execution_count": null,
      "outputs": [
        {
          "output_type": "stream",
          "name": "stdout",
          "text": [
            "Original DataFrames:\n",
            "  key1 key2   P   Q\n",
            "0   K0   K0  P0  Q0\n",
            "1   K0   K1  P1  Q1\n",
            "2   K1   K0  P2  Q2\n",
            "3   K2   K1  P3  Q3\n",
            "--------------------\n",
            "  key1 key2   R   S\n",
            "0   K0   K0  R0  S0\n",
            "1   K1   K0  R1  S1\n",
            "2   K1   K0  R2  S2\n",
            "3   K2   K0  R3  S3\n",
            "\n",
            "Merged Data (many-to-many join case):\n",
            "  key1 key2_x   P   Q key2_y   R   S\n",
            "0   K0     K0  P0  Q0     K0  R0  S0\n",
            "1   K0     K1  P1  Q1     K0  R0  S0\n",
            "2   K1     K0  P2  Q2     K0  R1  S1\n",
            "3   K1     K0  P2  Q2     K0  R2  S2\n",
            "4   K2     K1  P3  Q3     K0  R3  S3\n"
          ]
        }
      ]
    },
    {
      "cell_type": "code",
      "source": [
        "# 13. Write a Pandas program to combine the columns of two potentially differently-indexed DataFrames into a single result DataFrame. import pandas as pd\n",
        "data1 = pd.DataFrame({'A': ['A0', 'A1', 'A2'],\n",
        "                      'B': ['B0', 'B1', 'B2']},\n",
        "                     index=['K0', 'K1', 'K2'])\n",
        "\n",
        "data2 = pd.DataFrame({'C': ['C0', 'C2', 'C3'],\n",
        "                      'D': ['D0', 'D2', 'D3']},\n",
        "                     index=['K0', 'K2', 'K3'])\n",
        "\n",
        "print(\"Original DataFrames:\")\n",
        "print(data1)\n",
        "print(\"--------------------\")\n",
        "print(data2)\n",
        "print(\"\\nMerged Data (Joining on index):\")\n",
        "result = data1.join(data2)\n",
        "print(result)\n"
      ],
      "metadata": {
        "colab": {
          "base_uri": "https://localhost:8080/"
        },
        "id": "4Sp0w9b32nLh",
        "outputId": "23766c65-ae4f-47f8-980f-870e19ba1f5f"
      },
      "execution_count": null,
      "outputs": [
        {
          "output_type": "stream",
          "name": "stdout",
          "text": [
            "Original DataFrames:\n",
            "     A   B\n",
            "K0  A0  B0\n",
            "K1  A1  B1\n",
            "K2  A2  B2\n",
            "--------------------\n",
            "     C   D\n",
            "K0  C0  D0\n",
            "K2  C2  D2\n",
            "K3  C3  D3\n",
            "\n",
            "Merged Data (Joining on index):\n",
            "     A   B    C    D\n",
            "K0  A0  B0   C0   D0\n",
            "K1  A1  B1  NaN  NaN\n",
            "K2  A2  B2   C2   D2\n"
          ]
        }
      ]
    },
    {
      "cell_type": "code",
      "source": [
        "# 14. Write a Pandas program to merge two given dataframes with different col\n",
        "\n",
        "import pandas as pd\n",
        "data1 = pd.DataFrame({'key1': ['K0', 'K0', 'K1', 'K2'],\n",
        "                     'key2': ['K0', 'K1', 'K0', 'K1'],\n",
        "                     'P': ['P0', 'P1', 'P2', 'P3'],\n",
        "                     'Q': ['Q0', 'Q1', 'Q2', 'Q3']})\n",
        "data2 = pd.DataFrame({'key1': ['K0', 'K1', 'K1', 'K2'],\n",
        "                      'key2': ['K0', 'K0', 'K0', 'K0'],\n",
        "                      'R': ['R0', 'R1', 'R2', 'R3'],\n",
        "                      'S': ['S0', 'S1', 'S2', 'S3']})\n",
        "print(\"Original DataFrames:\")\n",
        "print(data1)\n",
        "print(\"***************************\")\n",
        "print(data2)\n",
        "print(\"\\nMerge two dataframes with different columns:\")\n",
        "result = pd.concat([data1,data2], axis=0, ignore_index=True)\n",
        "print(result)\n"
      ],
      "metadata": {
        "colab": {
          "base_uri": "https://localhost:8080/"
        },
        "id": "6EIXW0XK2uSJ",
        "outputId": "7d3c3f7c-5e7a-49a7-fcb9-966d487c2ed8"
      },
      "execution_count": null,
      "outputs": [
        {
          "output_type": "stream",
          "name": "stdout",
          "text": [
            "Original DataFrames:\n",
            "  key1 key2   P   Q\n",
            "0   K0   K0  P0  Q0\n",
            "1   K0   K1  P1  Q1\n",
            "2   K1   K0  P2  Q2\n",
            "3   K2   K1  P3  Q3\n",
            "--------------------\n",
            "  key1 key2   R   S\n",
            "0   K0   K0  R0  S0\n",
            "1   K1   K0  R1  S1\n",
            "2   K1   K0  R2  S2\n",
            "3   K2   K0  R3  S3\n",
            "\n",
            "Merge two dataframes with different columns:\n",
            "  key1 key2    P    Q    R    S\n",
            "0   K0   K0   P0   Q0  NaN  NaN\n",
            "1   K0   K1   P1   Q1  NaN  NaN\n",
            "2   K1   K0   P2   Q2  NaN  NaN\n",
            "3   K2   K1   P3   Q3  NaN  NaN\n",
            "4   K0   K0  NaN  NaN   R0   S0\n",
            "5   K1   K0  NaN  NaN   R1   S1\n",
            "6   K1   K0  NaN  NaN   R2   S2\n",
            "7   K2   K0  NaN  NaN   R3   S3\n"
          ]
        }
      ]
    },
    {
      "cell_type": "code",
      "source": [
        "# 15. Write a Pandas program to Combine two DataFrame objects by filling null values in one DataFrame with non-null values from other DataFrame.\n",
        "\n",
        "import pandas as pd\n",
        "df1 = pd.DataFrame({'A': [None, 0, None], 'B': [3, 4, 5]})\n",
        "df2 = pd.DataFrame({'A': [1, 1, 3], 'B': [3, None, 3]})\n",
        "df1.combine_first(df2)\n",
        "print(\"Original DataFrames:\")\n",
        "print(df1)\n",
        "print(\"*************************\")\n",
        "print(df2)\n",
        "print(\"\\nMerge two dataframes with different columns:\")\n",
        "result = df1.combine_first(df2)\n",
        "print(result)\n"
      ],
      "metadata": {
        "colab": {
          "base_uri": "https://localhost:8080/"
        },
        "id": "dkQrt1cA25Fi",
        "outputId": "5d0d8291-24d5-48a3-cad1-2b0eceff29d7"
      },
      "execution_count": null,
      "outputs": [
        {
          "output_type": "stream",
          "name": "stdout",
          "text": [
            "Original DataFrames:\n",
            "     A  B\n",
            "0  NaN  3\n",
            "1  0.0  4\n",
            "2  NaN  5\n",
            "--------------------\n",
            "   A    B\n",
            "0  1  3.0\n",
            "1  1  NaN\n",
            "2  3  3.0\n",
            "\n",
            "Merge two dataframes with different columns:\n",
            "     A    B\n",
            "0  1.0  3.0\n",
            "1  0.0  4.0\n",
            "2  3.0  5.0\n"
          ]
        }
      ]
    }
  ]
}